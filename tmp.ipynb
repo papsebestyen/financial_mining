{
 "cells": [
  {
   "cell_type": "code",
   "execution_count": 1,
   "metadata": {
    "ExecuteTime": {
     "end_time": "2022-05-02T19:15:06.863833Z",
     "start_time": "2022-05-02T19:15:02.444600Z"
    }
   },
   "outputs": [],
   "source": [
    "from pathlib import Path\n",
    "import pandas as pd\n",
    "from porforum.message.scrape import get_all_message\n",
    "import logging\n",
    "\n",
    "logging.basicConfig(format=\"%(asctime)s - %(message)s\", datefmt=\"%y-%m-%d %H:%M:%S\")"
   ]
  },
  {
   "cell_type": "code",
   "execution_count": 2,
   "metadata": {
    "ExecuteTime": {
     "end_time": "2022-05-02T19:15:07.338398Z",
     "start_time": "2022-05-02T19:15:06.866844Z"
    }
   },
   "outputs": [],
   "source": [
    "thread_df = pd.read_parquet(Path(\"data/threads.parquet\"))\n",
    "topics_df = pd.read_parquet(Path(\"data/topics.parquet\"))"
   ]
  },
  {
   "cell_type": "code",
   "execution_count": 3,
   "metadata": {
    "ExecuteTime": {
     "end_time": "2022-05-02T19:15:08.449590Z",
     "start_time": "2022-05-02T19:15:07.342347Z"
    },
    "scrolled": true
   },
   "outputs": [
    {
     "ename": "NameError",
     "evalue": "name 'data_path' is not defined",
     "output_type": "error",
     "traceback": [
      "\u001b[1;31m---------------------------------------------------------------------------\u001b[0m",
      "\u001b[1;31mNameError\u001b[0m                                 Traceback (most recent call last)",
      "Input \u001b[1;32mIn [3]\u001b[0m, in \u001b[0;36m<module>\u001b[1;34m\u001b[0m\n\u001b[0;32m      2\u001b[0m thread_dict \u001b[38;5;241m=\u001b[39m thread_df[\u001b[38;5;124m\"\u001b[39m\u001b[38;5;124mthread_url\u001b[39m\u001b[38;5;124m\"\u001b[39m]\u001b[38;5;241m.\u001b[39miloc[\u001b[38;5;241m-\u001b[39m\u001b[38;5;241m7\u001b[39m:]\u001b[38;5;241m.\u001b[39mto_dict()\n\u001b[0;32m      3\u001b[0m \u001b[38;5;28;01mif\u001b[39;00m \u001b[38;5;129;01mnot\u001b[39;00m update:\n\u001b[1;32m----> 4\u001b[0m     [(thread_dict\u001b[38;5;241m.\u001b[39mpop(\u001b[38;5;28mint\u001b[39m(p\u001b[38;5;241m.\u001b[39mstem))) \u001b[38;5;28;01mfor\u001b[39;00m p \u001b[38;5;129;01min\u001b[39;00m \u001b[43mdata_path\u001b[49m\u001b[38;5;241m.\u001b[39miterdir()]\n\u001b[0;32m      6\u001b[0m \u001b[38;5;28;01mfor\u001b[39;00m thread_id, thread_data \u001b[38;5;129;01min\u001b[39;00m get_thread_message_generator(\n\u001b[0;32m      7\u001b[0m     {\u001b[38;5;241m25257\u001b[39m: \u001b[38;5;124m\"\u001b[39m\u001b[38;5;124mhttps://forum.portfolio.hu/topics/fidesz-hazugsaggyar/25257\u001b[39m\u001b[38;5;124m\"\u001b[39m}\n\u001b[0;32m      8\u001b[0m ):\n\u001b[0;32m      9\u001b[0m     thread_data \u001b[38;5;241m=\u001b[39m pd\u001b[38;5;241m.\u001b[39mDataFrame(thread_data)\n",
      "\u001b[1;31mNameError\u001b[0m: name 'data_path' is not defined"
     ]
    }
   ],
   "source": [
    "update = False\n",
    "thread_dict = thread_df[\"thread_url\"].iloc[-7:].to_dict()\n",
    "if not update:\n",
    "    [(thread_dict.pop(int(p.stem))) for p in data_path.iterdir()]\n",
    "\n",
    "for thread_id, thread_data in get_thread_message_generator(\n",
    "    {25257: \"https://forum.portfolio.hu/topics/fidesz-hazugsaggyar/25257\"}\n",
    "):\n",
    "    thread_data = pd.DataFrame(thread_data)\n",
    "    if not thread_data.empty:\n",
    "        thread_data.set_index(\"id\").to_parquet(data_path / f\"{thread_id}.parquet\")"
   ]
  },
  {
   "cell_type": "code",
   "execution_count": 103,
   "metadata": {
    "ExecuteTime": {
     "end_time": "2022-05-02T19:08:59.262985Z",
     "start_time": "2022-05-02T19:08:59.247352Z"
    }
   },
   "outputs": [],
   "source": [
    "import numpy as np"
   ]
  },
  {
   "cell_type": "code",
   "execution_count": 114,
   "metadata": {
    "ExecuteTime": {
     "end_time": "2022-05-02T19:13:07.912720Z",
     "start_time": "2022-05-02T19:13:07.875481Z"
    }
   },
   "outputs": [],
   "source": [
    "thread_data.set_index(\"id\").to_parquet(data_path / f\"{thread_id}.parquet\")"
   ]
  },
  {
   "cell_type": "code",
   "execution_count": 110,
   "metadata": {
    "ExecuteTime": {
     "end_time": "2022-05-02T19:11:17.675574Z",
     "start_time": "2022-05-02T19:11:17.632497Z"
    }
   },
   "outputs": [
    {
     "data": {
      "text/html": [
       "<div>\n",
       "<style scoped>\n",
       "    .dataframe tbody tr th:only-of-type {\n",
       "        vertical-align: middle;\n",
       "    }\n",
       "\n",
       "    .dataframe tbody tr th {\n",
       "        vertical-align: top;\n",
       "    }\n",
       "\n",
       "    .dataframe thead th {\n",
       "        text-align: right;\n",
       "    }\n",
       "</style>\n",
       "<table border=\"1\" class=\"dataframe\">\n",
       "  <thead>\n",
       "    <tr style=\"text-align: right;\">\n",
       "      <th></th>\n",
       "      <th>text</th>\n",
       "      <th>username</th>\n",
       "      <th>date</th>\n",
       "      <th>id</th>\n",
       "      <th>like</th>\n",
       "      <th>unlike</th>\n",
       "      <th>prev_id</th>\n",
       "    </tr>\n",
       "  </thead>\n",
       "  <tbody>\n",
       "    <tr>\n",
       "      <th>0</th>\n",
       "      <td>NaN</td>\n",
       "      <td>-pny</td>\n",
       "      <td>2017-05-17 20:58:00</td>\n",
       "      <td>100</td>\n",
       "      <td>NaN</td>\n",
       "      <td>NaN</td>\n",
       "      <td>Törölt hozzászólás</td>\n",
       "    </tr>\n",
       "    <tr>\n",
       "      <th>1</th>\n",
       "      <td>Köszönöm az aggódást. De tudod, csalánba nem ü...</td>\n",
       "      <td>_Sigorszky</td>\n",
       "      <td>2017-05-17 20:32:00</td>\n",
       "      <td>99</td>\n",
       "      <td>3.0</td>\n",
       "      <td>0.0</td>\n",
       "      <td>84</td>\n",
       "    </tr>\n",
       "    <tr>\n",
       "      <th>2</th>\n",
       "      <td>\"leírom rövidebben, hogy értsétek:\\na beskatul...</td>\n",
       "      <td>szivacs</td>\n",
       "      <td>2017-05-17 15:04:00</td>\n",
       "      <td>98</td>\n",
       "      <td>1.0</td>\n",
       "      <td>8.0</td>\n",
       "      <td>91</td>\n",
       "    </tr>\n",
       "    <tr>\n",
       "      <th>3</th>\n",
       "      <td>Most tényleg: küldje vissza a nyugdíját? Vagy ...</td>\n",
       "      <td>_Sigorszky</td>\n",
       "      <td>2017-05-17 12:31:00</td>\n",
       "      <td>97</td>\n",
       "      <td>4.0</td>\n",
       "      <td>0.0</td>\n",
       "      <td>Előzmény:\\n                                   ...</td>\n",
       "    </tr>\n",
       "    <tr>\n",
       "      <th>4</th>\n",
       "      <td>Hol tapsolt? Mutasd meg légy szíves! Ezúttal e...</td>\n",
       "      <td>_Sigorszky</td>\n",
       "      <td>2017-05-17 12:27:00</td>\n",
       "      <td>96</td>\n",
       "      <td>6.0</td>\n",
       "      <td>0.0</td>\n",
       "      <td>Előzmény:\\n                                   ...</td>\n",
       "    </tr>\n",
       "    <tr>\n",
       "      <th>...</th>\n",
       "      <td>...</td>\n",
       "      <td>...</td>\n",
       "      <td>...</td>\n",
       "      <td>...</td>\n",
       "      <td>...</td>\n",
       "      <td>...</td>\n",
       "      <td>...</td>\n",
       "    </tr>\n",
       "    <tr>\n",
       "      <th>1114</th>\n",
       "      <td>Az államháztartás hiánya (-) és többlete (+) (...</td>\n",
       "      <td>NaN</td>\n",
       "      <td>2020-04-11 14:40:00</td>\n",
       "      <td>1005</td>\n",
       "      <td>1.0</td>\n",
       "      <td>5.0</td>\n",
       "      <td>Előzmény:\\n                                   ...</td>\n",
       "    </tr>\n",
       "    <tr>\n",
       "      <th>1115</th>\n",
       "      <td>2020. április 11. 11:28\\n    \\n        \\n     ...</td>\n",
       "      <td>NaN</td>\n",
       "      <td>2020-04-11 14:38:00</td>\n",
       "      <td>1004</td>\n",
       "      <td>1.0</td>\n",
       "      <td>0.0</td>\n",
       "      <td>1003</td>\n",
       "    </tr>\n",
       "    <tr>\n",
       "      <th>1116</th>\n",
       "      <td>ez már a legalja,hát aki nem érti,az ö dolga</td>\n",
       "      <td>NaN</td>\n",
       "      <td>2020-04-11 14:37:00</td>\n",
       "      <td>1003</td>\n",
       "      <td>1.0</td>\n",
       "      <td>1.0</td>\n",
       "      <td></td>\n",
       "    </tr>\n",
       "    <tr>\n",
       "      <th>1117</th>\n",
       "      <td>Sajtótájékoztató a Monetáris Tanács április 7-...</td>\n",
       "      <td>NaN</td>\n",
       "      <td>2020-04-11 14:36:00</td>\n",
       "      <td>1002</td>\n",
       "      <td>1.0</td>\n",
       "      <td>5.0</td>\n",
       "      <td>Előzmény:\\n                                   ...</td>\n",
       "    </tr>\n",
       "    <tr>\n",
       "      <th>1118</th>\n",
       "      <td>Kormányzat - Emberi Erőforrások Minisztériuma ...</td>\n",
       "      <td>NaN</td>\n",
       "      <td>2020-04-11 14:34:00</td>\n",
       "      <td>1001</td>\n",
       "      <td>1.0</td>\n",
       "      <td>5.0</td>\n",
       "      <td>Előzmény:\\n                                   ...</td>\n",
       "    </tr>\n",
       "  </tbody>\n",
       "</table>\n",
       "<p>1119 rows × 7 columns</p>\n",
       "</div>"
      ],
      "text/plain": [
       "                                                   text    username  \\\n",
       "0                                                   NaN        -pny   \n",
       "1     Köszönöm az aggódást. De tudod, csalánba nem ü...  _Sigorszky   \n",
       "2     \"leírom rövidebben, hogy értsétek:\\na beskatul...     szivacs   \n",
       "3     Most tényleg: küldje vissza a nyugdíját? Vagy ...  _Sigorszky   \n",
       "4     Hol tapsolt? Mutasd meg légy szíves! Ezúttal e...  _Sigorszky   \n",
       "...                                                 ...         ...   \n",
       "1114  Az államháztartás hiánya (-) és többlete (+) (...         NaN   \n",
       "1115  2020. április 11. 11:28\\n    \\n        \\n     ...         NaN   \n",
       "1116       ez már a legalja,hát aki nem érti,az ö dolga         NaN   \n",
       "1117  Sajtótájékoztató a Monetáris Tanács április 7-...         NaN   \n",
       "1118  Kormányzat - Emberi Erőforrások Minisztériuma ...         NaN   \n",
       "\n",
       "                    date    id  like  unlike  \\\n",
       "0    2017-05-17 20:58:00   100   NaN     NaN   \n",
       "1    2017-05-17 20:32:00    99   3.0     0.0   \n",
       "2    2017-05-17 15:04:00    98   1.0     8.0   \n",
       "3    2017-05-17 12:31:00    97   4.0     0.0   \n",
       "4    2017-05-17 12:27:00    96   6.0     0.0   \n",
       "...                  ...   ...   ...     ...   \n",
       "1114 2020-04-11 14:40:00  1005   1.0     5.0   \n",
       "1115 2020-04-11 14:38:00  1004   1.0     0.0   \n",
       "1116 2020-04-11 14:37:00  1003   1.0     1.0   \n",
       "1117 2020-04-11 14:36:00  1002   1.0     5.0   \n",
       "1118 2020-04-11 14:34:00  1001   1.0     5.0   \n",
       "\n",
       "                                                prev_id  \n",
       "0                                    Törölt hozzászólás  \n",
       "1                                                    84  \n",
       "2                                                    91  \n",
       "3     Előzmény:\\n                                   ...  \n",
       "4     Előzmény:\\n                                   ...  \n",
       "...                                                 ...  \n",
       "1114  Előzmény:\\n                                   ...  \n",
       "1115                                               1003  \n",
       "1116                                                     \n",
       "1117  Előzmény:\\n                                   ...  \n",
       "1118  Előzmény:\\n                                   ...  \n",
       "\n",
       "[1119 rows x 7 columns]"
      ]
     },
     "execution_count": 110,
     "metadata": {},
     "output_type": "execute_result"
    }
   ],
   "source": [
    "thread_data.assign(\n",
    "    text=lambda _df: _df[\"text\"].map(\n",
    "        lambda x: np.nan if x == \"Törölt hozzászólás\" else x\n",
    "    ),\n",
    "    username=lambda _df: _df[\"username\"].map(\n",
    "        lambda x: np.nan if x == \"Törölt felhasználó\" else x\n",
    "    ),\n",
    ")"
   ]
  },
  {
   "cell_type": "code",
   "execution_count": 85,
   "metadata": {
    "ExecuteTime": {
     "end_time": "2022-05-02T18:59:14.985673Z",
     "start_time": "2022-05-02T18:59:14.951674Z"
    }
   },
   "outputs": [
    {
     "data": {
      "text/html": [
       "<div>\n",
       "<style scoped>\n",
       "    .dataframe tbody tr th:only-of-type {\n",
       "        vertical-align: middle;\n",
       "    }\n",
       "\n",
       "    .dataframe tbody tr th {\n",
       "        vertical-align: top;\n",
       "    }\n",
       "\n",
       "    .dataframe thead th {\n",
       "        text-align: right;\n",
       "    }\n",
       "</style>\n",
       "<table border=\"1\" class=\"dataframe\">\n",
       "  <thead>\n",
       "    <tr style=\"text-align: right;\">\n",
       "      <th></th>\n",
       "      <th>text</th>\n",
       "      <th>username</th>\n",
       "      <th>date</th>\n",
       "      <th>like</th>\n",
       "      <th>unlike</th>\n",
       "      <th>prev_id</th>\n",
       "    </tr>\n",
       "    <tr>\n",
       "      <th>id</th>\n",
       "      <th></th>\n",
       "      <th></th>\n",
       "      <th></th>\n",
       "      <th></th>\n",
       "      <th></th>\n",
       "      <th></th>\n",
       "    </tr>\n",
       "  </thead>\n",
       "  <tbody>\n",
       "    <tr>\n",
       "      <th>4</th>\n",
       "      <td>Mert abból nem tudnának kiszállni nagy mennyis...</td>\n",
       "      <td>Peti</td>\n",
       "      <td>2005-01-17 09:41:00</td>\n",
       "      <td>0</td>\n",
       "      <td>0</td>\n",
       "      <td>3</td>\n",
       "    </tr>\n",
       "    <tr>\n",
       "      <th>3</th>\n",
       "      <td>Azt mondja meg nekem valaki, hogy miért nem FH...</td>\n",
       "      <td>morky</td>\n",
       "      <td>2005-01-17 09:35:00</td>\n",
       "      <td>0</td>\n",
       "      <td>0</td>\n",
       "      <td>1</td>\n",
       "    </tr>\n",
       "    <tr>\n",
       "      <th>2</th>\n",
       "      <td>Jól elszúrták a brókerek. Alacsony PE értéken ...</td>\n",
       "      <td>morky</td>\n",
       "      <td>2005-01-17 09:31:00</td>\n",
       "      <td>0</td>\n",
       "      <td>0</td>\n",
       "      <td>1</td>\n",
       "    </tr>\n",
       "  </tbody>\n",
       "</table>\n",
       "</div>"
      ],
      "text/plain": [
       "                                                 text username  \\\n",
       "id                                                               \n",
       "4   Mert abból nem tudnának kiszállni nagy mennyis...     Peti   \n",
       "3   Azt mondja meg nekem valaki, hogy miért nem FH...    morky   \n",
       "2   Jól elszúrták a brókerek. Alacsony PE értéken ...    morky   \n",
       "\n",
       "                  date  like  unlike  prev_id  \n",
       "id                                             \n",
       "4  2005-01-17 09:41:00     0       0        3  \n",
       "3  2005-01-17 09:35:00     0       0        1  \n",
       "2  2005-01-17 09:31:00     0       0        1  "
      ]
     },
     "execution_count": 85,
     "metadata": {},
     "output_type": "execute_result"
    }
   ],
   "source": [
    "pd.read_parquet(\"data/messages/2619.parquet\")"
   ]
  },
  {
   "cell_type": "code",
   "execution_count": 27,
   "metadata": {
    "ExecuteTime": {
     "end_time": "2022-05-02T21:32:43.331375Z",
     "start_time": "2022-05-02T21:32:43.315376Z"
    }
   },
   "outputs": [
    {
     "data": {
      "text/plain": [
       "1000.0"
      ]
     },
     "execution_count": 27,
     "metadata": {},
     "output_type": "execute_result"
    }
   ],
   "source": [
    "(1 * 10) ** (4 + 1) / 100"
   ]
  }
 ],
 "metadata": {
  "interpreter": {
   "hash": "d7d6836bfa7789e041f3d31c9691930130884580349be23a30d1af69dcaa2921"
  },
  "kernelspec": {
   "display_name": "Python 3 (ipykernel)",
   "language": "python",
   "name": "python3"
  },
  "language_info": {
   "codemirror_mode": {
    "name": "ipython",
    "version": 3
   },
   "file_extension": ".py",
   "mimetype": "text/x-python",
   "name": "python",
   "nbconvert_exporter": "python",
   "pygments_lexer": "ipython3",
   "version": "3.8.10"
  },
  "toc": {
   "base_numbering": 1,
   "nav_menu": {},
   "number_sections": true,
   "sideBar": true,
   "skip_h1_title": false,
   "title_cell": "Table of Contents",
   "title_sidebar": "Contents",
   "toc_cell": false,
   "toc_position": {},
   "toc_section_display": true,
   "toc_window_display": false
  }
 },
 "nbformat": 4,
 "nbformat_minor": 4
}
