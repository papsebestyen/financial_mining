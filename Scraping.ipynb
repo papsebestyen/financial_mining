{
 "cells": [
  {
   "cell_type": "markdown",
   "source": [
    "# **Hungarian financial blog (*portfolio.forum*) scraping.**"
   ],
   "metadata": {}
  },
  {
   "cell_type": "code",
   "execution_count": 5,
   "source": [
    "import requests\r\n",
    "from bs4 import BeautifulSoup as bs\r\n",
    "import unicodedata\r\n",
    "import pandas as pd\r\n",
    "import re\r\n",
    "import os\r\n",
    "from tqdm import tqdm"
   ],
   "outputs": [],
   "metadata": {
    "ExecuteTime": {
     "end_time": "2021-02-08T10:56:17.893366Z",
     "start_time": "2021-02-08T10:56:16.915831Z"
    }
   }
  },
  {
   "cell_type": "markdown",
   "source": [
    "## **Get all topics**"
   ],
   "metadata": {}
  },
  {
   "cell_type": "code",
   "execution_count": 1,
   "source": [
    "BASE_TOPIC_URL = 'https://forum.portfolio.hu/topics?o='"
   ],
   "outputs": [],
   "metadata": {}
  },
  {
   "cell_type": "code",
   "execution_count": 3,
   "source": [
    "result = requests.get(BASE_TOPIC_URL + '1')\r\n",
    "soup = bs(result.content, 'lxml', from_encoding = 'utf-8')"
   ],
   "outputs": [],
   "metadata": {}
  },
  {
   "cell_type": "code",
   "execution_count": 4,
   "source": [
    "topics_soup = soup.find_all('div', {'class': 'topic'})"
   ],
   "outputs": [],
   "metadata": {}
  },
  {
   "cell_type": "code",
   "execution_count": 61,
   "source": [
    "get_topic_name = lambda soup: soup.find('div', {'class': 'topicname'}).find('a').text.strip()\r\n",
    "get_topic_url = lambda soup: soup.find('div', {'class': 'topicname'}).find('a')['href']\r\n",
    "get_topic_id = lambda soup: soup.find('div', {'class': 'topicname'}).find('a')['href'].split('/')[-1]\r\n",
    "get_topic_comment_count = lambda soup: soup.find('div', {'class': 'commentcount'}).text.strip()"
   ],
   "outputs": [],
   "metadata": {}
  },
  {
   "cell_type": "code",
   "execution_count": 62,
   "source": [
    "def get_topic_data(soup):\r\n",
    "    topic_name = get_topic_name(soup)\r\n",
    "    topic_id = get_topic_id(soup)\r\n",
    "    topic_url = get_topic_url(soup)\r\n",
    "    topic_comment_count = get_topic_comment_count(soup)\r\n",
    "    topic_data = {\r\n",
    "        'topic_id': topic_id,\r\n",
    "        'topic_name': topic_name,\r\n",
    "        'topic_url': topic_url,\r\n",
    "        'topic_comment_count': topic_comment_count\r\n",
    "    }\r\n",
    "    return topic_data\r\n",
    "\r\n",
    "get_topic_data(topics_soup[0])"
   ],
   "outputs": [
    {
     "output_type": "execute_result",
     "data": {
      "text/plain": [
       "{'topic_id': '25564',\n",
       " 'topic_name': 'Szerinted mennyit keres egy szlovák autóipari munkás? Igen, többet',\n",
       " 'topic_url': 'https://forum.portfolio.hu/topics/szerinted-mennyit-keres-egy-szlovak-autoipari-munkas-igen-tobbet/25564',\n",
       " 'topic_comment_count': '4'}"
      ]
     },
     "metadata": {},
     "execution_count": 62
    }
   ],
   "metadata": {}
  },
  {
   "cell_type": "markdown",
   "source": [
    "Finding the last page"
   ],
   "metadata": {}
  },
  {
   "cell_type": "code",
   "execution_count": 40,
   "source": [
    "def get_last_topic(soup):\r\n",
    "    pages = soup.find_all('li', {'class': 'page-item'})\r\n",
    "    pages = [int(page.text) for page in pages if re.search('\\d', page.text)]\r\n",
    "    return max(pages)\r\n",
    "\r\n",
    "get_last_topic(soup)"
   ],
   "outputs": [
    {
     "output_type": "execute_result",
     "data": {
      "text/plain": [
       "707"
      ]
     },
     "metadata": {},
     "execution_count": 40
    }
   ],
   "metadata": {}
  },
  {
   "cell_type": "markdown",
   "source": [
    "Iteration over pages"
   ],
   "metadata": {}
  },
  {
   "cell_type": "code",
   "execution_count": 63,
   "source": [
    "topic_data = []\r\n",
    "for page_num in tqdm(range(1, get_last_topic(soup) + 1)):\r\n",
    "    result = requests.get(f'{BASE_TOPIC_URL}{page_num}')\r\n",
    "    soup = bs(result.content, 'lxml', from_encoding = 'utf-8')\r\n",
    "    topics_soup = soup.find_all('div', {'class': 'topic'})\r\n",
    "    topic_data.extend([get_topic_data(topic) for topic in topics_soup])"
   ],
   "outputs": [
    {
     "output_type": "stream",
     "name": "stderr",
     "text": [
      "100%|██████████| 707/707 [05:08<00:00,  2.29it/s]\n"
     ]
    }
   ],
   "metadata": {}
  },
  {
   "cell_type": "code",
   "execution_count": 72,
   "source": [
    "topic_data = pd.DataFrame(topic_data)\r\n",
    "topic_data.to_csv(os.path.join('data', 'output', 'topic_data.csv'), index = False, encoding = 'utf-8')\r\n",
    "topic_data"
   ],
   "outputs": [
    {
     "output_type": "execute_result",
     "data": {
      "text/html": [
       "<div>\n",
       "<style scoped>\n",
       "    .dataframe tbody tr th:only-of-type {\n",
       "        vertical-align: middle;\n",
       "    }\n",
       "\n",
       "    .dataframe tbody tr th {\n",
       "        vertical-align: top;\n",
       "    }\n",
       "\n",
       "    .dataframe thead th {\n",
       "        text-align: right;\n",
       "    }\n",
       "</style>\n",
       "<table border=\"1\" class=\"dataframe\">\n",
       "  <thead>\n",
       "    <tr style=\"text-align: right;\">\n",
       "      <th></th>\n",
       "      <th>topic_id</th>\n",
       "      <th>topic_name</th>\n",
       "      <th>topic_url</th>\n",
       "      <th>topic_comment_count</th>\n",
       "    </tr>\n",
       "  </thead>\n",
       "  <tbody>\n",
       "    <tr>\n",
       "      <th>0</th>\n",
       "      <td>18567</td>\n",
       "      <td>ORBÁN TAKARODJ !!!</td>\n",
       "      <td>https://forum.portfolio.hu/topics/orban-takaro...</td>\n",
       "      <td>47 243</td>\n",
       "    </tr>\n",
       "    <tr>\n",
       "      <th>1</th>\n",
       "      <td>20627</td>\n",
       "      <td>Tréder Topik :o)</td>\n",
       "      <td>https://forum.portfolio.hu/topics/treder-topik...</td>\n",
       "      <td>190 818</td>\n",
       "    </tr>\n",
       "    <tr>\n",
       "      <th>2</th>\n",
       "      <td>38715</td>\n",
       "      <td>CoronaVirus</td>\n",
       "      <td>https://forum.portfolio.hu/topics/coronavirus/...</td>\n",
       "      <td>47 081</td>\n",
       "    </tr>\n",
       "    <tr>\n",
       "      <th>3</th>\n",
       "      <td>27644</td>\n",
       "      <td>BLUE topic</td>\n",
       "      <td>https://forum.portfolio.hu/topics/blue-topic/2...</td>\n",
       "      <td>9 499</td>\n",
       "    </tr>\n",
       "    <tr>\n",
       "      <th>4</th>\n",
       "      <td>38930</td>\n",
       "      <td>ELLENZÉKI összefogás HAZUGSÁGAI</td>\n",
       "      <td>https://forum.portfolio.hu/topics/ellenzeki-os...</td>\n",
       "      <td>3 492</td>\n",
       "    </tr>\n",
       "    <tr>\n",
       "      <th>...</th>\n",
       "      <td>...</td>\n",
       "      <td>...</td>\n",
       "      <td>...</td>\n",
       "      <td>...</td>\n",
       "    </tr>\n",
       "    <tr>\n",
       "      <th>28254</th>\n",
       "      <td>2627</td>\n",
       "      <td>Autóbalesetben elhunyt Kulcsár Anita</td>\n",
       "      <td>https://forum.portfolio.hu/topics/autobalesetb...</td>\n",
       "      <td>6</td>\n",
       "    </tr>\n",
       "    <tr>\n",
       "      <th>28255</th>\n",
       "      <td>2619</td>\n",
       "      <td>Amerikai óriás alap 5% fölött a MOL-ban</td>\n",
       "      <td>https://forum.portfolio.hu/topics/amerikai-ori...</td>\n",
       "      <td>4</td>\n",
       "    </tr>\n",
       "    <tr>\n",
       "      <th>28256</th>\n",
       "      <td>2610</td>\n",
       "      <td>Portfolio.hu Tőzsdeklub: Szárnyalás előtt a ve...</td>\n",
       "      <td>https://forum.portfolio.hu/topics/portfoliohu-...</td>\n",
       "      <td>2</td>\n",
       "    </tr>\n",
       "    <tr>\n",
       "      <th>28257</th>\n",
       "      <td>1852</td>\n",
       "      <td>Tovább zuhant a Richter, történelmi zárócsúcs ...</td>\n",
       "      <td>https://forum.portfolio.hu/topics/tovabb-zuhan...</td>\n",
       "      <td>2</td>\n",
       "    </tr>\n",
       "    <tr>\n",
       "      <th>28258</th>\n",
       "      <td>46</td>\n",
       "      <td>Mezőgép</td>\n",
       "      <td>https://forum.portfolio.hu/topics/mezogep/46</td>\n",
       "      <td>0</td>\n",
       "    </tr>\n",
       "  </tbody>\n",
       "</table>\n",
       "<p>28259 rows × 4 columns</p>\n",
       "</div>"
      ],
      "text/plain": [
       "      topic_id                                         topic_name  \\\n",
       "0        18567                                 ORBÁN TAKARODJ !!!   \n",
       "1        20627                                   Tréder Topik :o)   \n",
       "2        38715                                        CoronaVirus   \n",
       "3        27644                                         BLUE topic   \n",
       "4        38930                    ELLENZÉKI összefogás HAZUGSÁGAI   \n",
       "...        ...                                                ...   \n",
       "28254     2627               Autóbalesetben elhunyt Kulcsár Anita   \n",
       "28255     2619            Amerikai óriás alap 5% fölött a MOL-ban   \n",
       "28256     2610  Portfolio.hu Tőzsdeklub: Szárnyalás előtt a ve...   \n",
       "28257     1852  Tovább zuhant a Richter, történelmi zárócsúcs ...   \n",
       "28258       46                                            Mezőgép   \n",
       "\n",
       "                                               topic_url topic_comment_count  \n",
       "0      https://forum.portfolio.hu/topics/orban-takaro...              47 243  \n",
       "1      https://forum.portfolio.hu/topics/treder-topik...             190 818  \n",
       "2      https://forum.portfolio.hu/topics/coronavirus/...              47 081  \n",
       "3      https://forum.portfolio.hu/topics/blue-topic/2...               9 499  \n",
       "4      https://forum.portfolio.hu/topics/ellenzeki-os...               3 492  \n",
       "...                                                  ...                 ...  \n",
       "28254  https://forum.portfolio.hu/topics/autobalesetb...                   6  \n",
       "28255  https://forum.portfolio.hu/topics/amerikai-ori...                   4  \n",
       "28256  https://forum.portfolio.hu/topics/portfoliohu-...                   2  \n",
       "28257  https://forum.portfolio.hu/topics/tovabb-zuhan...                   2  \n",
       "28258       https://forum.portfolio.hu/topics/mezogep/46                   0  \n",
       "\n",
       "[28259 rows x 4 columns]"
      ]
     },
     "metadata": {},
     "execution_count": 72
    }
   ],
   "metadata": {}
  },
  {
   "cell_type": "code",
   "execution_count": 9,
   "source": [
    "topic_data = pd.read_csv(os.path.join('data', 'output', 'topic_data.csv'), index_col = 'topic_id', encoding = 'utf-8')"
   ],
   "outputs": [],
   "metadata": {}
  },
  {
   "cell_type": "code",
   "execution_count": 10,
   "source": [
    "print('Összesen:', topic_data['topic_comment_count'].apply(lambda x: int(x.replace(' ', ''))).sum(), 'bejegyzés')"
   ],
   "outputs": [
    {
     "output_type": "stream",
     "name": "stdout",
     "text": [
      "Összesen: 7799513 bejegyzés\n"
     ]
    }
   ],
   "metadata": {}
  },
  {
   "cell_type": "markdown",
   "source": [
    "## **Get all posts from a topic**"
   ],
   "metadata": {}
  },
  {
   "cell_type": "code",
   "execution_count": 85,
   "source": [
    "url = 'https://forum.portfolio.hu/topics/otp-reszvenyesek-ide/5224?oldal=1&limit=100'\r\n",
    "result = requests.get(url)\r\n",
    "soup = bs(result.content, 'lxml', from_encoding = 'utf-8')\r\n",
    "content = soup.find_all('div', {'class': 'comment'})"
   ],
   "outputs": [],
   "metadata": {}
  },
  {
   "cell_type": "code",
   "execution_count": 90,
   "source": [
    "def get_topic_stat(soup):\r\n",
    "    topic_data = soup.find('div', {'class': 'topic-head'})\r\n",
    "    topic_details = topic_data.find('div', {'class': 'pull-left'})\r\n",
    "    topic_founder = topic_details.find('a').text\r\n",
    "    topic_start = topic_details.text\r\n",
    "    topic_start = topic_start.replace(topic_founder, '').replace('Topiknyitó:', '')\r\n",
    "    topic_title = topic_data.find('div', {'class': 'comment'}).find('h1').text\r\n",
    "    return topic_founder, topic_start, topic_title"
   ],
   "outputs": [],
   "metadata": {
    "scrolled": true
   }
  },
  {
   "cell_type": "code",
   "execution_count": null,
   "source": [
    "def get_first_page(soup):\r\n",
    "    links = soup.find('div', {'class': 'topic-navigation'}).find_all('a', {'class': 'page-link'})\r\n",
    "    first = [link for link in links if link.text == 'első'][0]\r\n",
    "    first = re.sub('.*oldal=(\\d+).*', '\\\\1', first['href'])\r\n",
    "    return int(first)"
   ],
   "outputs": [],
   "metadata": {}
  },
  {
   "cell_type": "code",
   "execution_count": 91,
   "source": [
    "first_page = get_first_page(soup)\r\n",
    "topic_stat = get_topic_stat(soup)"
   ],
   "outputs": [],
   "metadata": {}
  },
  {
   "cell_type": "code",
   "execution_count": 93,
   "source": [
    "get_text = lambda x: x.find('div', {'class': 'text'}).text\r\n",
    "get_username = lambda x: x.find('a', {'class': 'username'}).text\r\n",
    "get_date = lambda x: x.find('span', {'class': 'date'}).text\r\n",
    "get_id = lambda x: x.find('div', {'class': 'id'}).text\r\n",
    "get_prev_id = lambda x: x.find('div', {'class': 'prevcomment'}).find('a').text\r\n",
    "get_prev_name = lambda x: x.find('div', {'class': 'prevcomment'}).text.split(get_prev_id(x))[-1]\r\n",
    "get_like = lambda x: x.find('span', {'class': 'vote', 'data-vote': '1'}).text\r\n",
    "get_unlike = lambda x: x.find('span', {'class': 'vote', 'data-vote': '-1'}).text"
   ],
   "outputs": [],
   "metadata": {}
  },
  {
   "cell_type": "code",
   "execution_count": 94,
   "source": [
    "def get_user_ranks(comment):\r\n",
    "    avatar = comment.find('div', {'class': 'avatar'})['data-content']\r\n",
    "    ranks = bs(avatar, 'lxml').find_all('span')\r\n",
    "    rank_data = {rank.find('i')['class'][0].replace('icon-', ''): int(rank.text) for rank in ranks if rank.attrs}\r\n",
    "    return rank_data"
   ],
   "outputs": [],
   "metadata": {}
  },
  {
   "cell_type": "code",
   "execution_count": 95,
   "source": [
    "def get_comment_data(comment):\r\n",
    "    try:\r\n",
    "        text = get_text(comment)\r\n",
    "    except:\r\n",
    "        text = None\r\n",
    "    \r\n",
    "    try:\r\n",
    "        username = get_username(comment)\r\n",
    "    except:\r\n",
    "        username = None\r\n",
    "    \r\n",
    "    try:\r\n",
    "        date = get_date(comment)\r\n",
    "    except:\r\n",
    "        date = None\r\n",
    "    \r\n",
    "    try:\r\n",
    "        comment_id = get_id(comment)\r\n",
    "    except:\r\n",
    "        comment_id = None\r\n",
    "    \r\n",
    "    try:\r\n",
    "        like = int(get_like(comment))\r\n",
    "    except:\r\n",
    "        like = None\r\n",
    "    \r\n",
    "    try:\r\n",
    "        unlike = int(get_unlike(comment))\r\n",
    "    except:\r\n",
    "        unlike = None\r\n",
    "    \r\n",
    "    try:\r\n",
    "        prev_id = get_prev_id(comment)\r\n",
    "    except:\r\n",
    "        prev_id = None\r\n",
    "    \r\n",
    "    try:\r\n",
    "        prev_name = get_prev_name(comment)\r\n",
    "    except:\r\n",
    "        prev_name = None\r\n",
    "    \r\n",
    "    data = {\r\n",
    "        'text': text,\r\n",
    "        'username': username,\r\n",
    "        'date': date,\r\n",
    "        'id': comment_id,\r\n",
    "        'like': like,\r\n",
    "        'unlike': unlike,\r\n",
    "        'prev_id': prev_id,\r\n",
    "        'prev_name': prev_name\r\n",
    "    }\r\n",
    "        \r\n",
    "    try:\r\n",
    "        user_data = get_user_ranks(comment)\r\n",
    "    except:\r\n",
    "        user_data = {}\r\n",
    "        \r\n",
    "    data.update(user_data)\r\n",
    "    return data"
   ],
   "outputs": [],
   "metadata": {}
  },
  {
   "cell_type": "code",
   "execution_count": 96,
   "source": [
    "def get_page_data(url):\r\n",
    "    result = requests.get(url)\r\n",
    "\r\n",
    "    if result.status_code != 200:\r\n",
    "        return False\r\n",
    "\r\n",
    "    soup = bs(result.content, 'lxml', from_encoding = 'utf-8')\r\n",
    "\r\n",
    "    content = soup.find_all('div', {'class': 'comment'})\r\n",
    "    \r\n",
    "    data = []\r\n",
    "    for i, comment in enumerate(content[1:]):\r\n",
    "        data.append(get_comment_data(comment))\r\n",
    "\r\n",
    "    return pd.DataFrame(data)\r\n",
    "\r\n",
    "get_page_data('https://forum.portfolio.hu/topics/otp-reszvenyesek-ide/5224?oldal=2&limit=100')"
   ],
   "outputs": [
    {
     "output_type": "execute_result",
     "data": {
      "text/html": [
       "<div>\n",
       "<style scoped>\n",
       "    .dataframe tbody tr th:only-of-type {\n",
       "        vertical-align: middle;\n",
       "    }\n",
       "\n",
       "    .dataframe tbody tr th {\n",
       "        vertical-align: top;\n",
       "    }\n",
       "\n",
       "    .dataframe thead th {\n",
       "        text-align: right;\n",
       "    }\n",
       "</style>\n",
       "<table border=\"1\" class=\"dataframe\">\n",
       "  <thead>\n",
       "    <tr style=\"text-align: right;\">\n",
       "      <th></th>\n",
       "      <th>text</th>\n",
       "      <th>username</th>\n",
       "      <th>date</th>\n",
       "      <th>id</th>\n",
       "      <th>like</th>\n",
       "      <th>unlike</th>\n",
       "      <th>prev_id</th>\n",
       "      <th>prev_name</th>\n",
       "      <th>expert</th>\n",
       "      <th>activity</th>\n",
       "      <th>popularity</th>\n",
       "    </tr>\n",
       "  </thead>\n",
       "  <tbody>\n",
       "    <tr>\n",
       "      <th>0</th>\n",
       "      <td>\\nVera! \\nNyugi, várjuk ki a nap végét.\\n</td>\n",
       "      <td>gentlemanus</td>\n",
       "      <td>2006. 07. 27. 10:13</td>\n",
       "      <td>#200</td>\n",
       "      <td>0</td>\n",
       "      <td>0</td>\n",
       "      <td>#198</td>\n",
       "      <td>\\n                                           ...</td>\n",
       "      <td>4.0</td>\n",
       "      <td>2.0</td>\n",
       "      <td>4.0</td>\n",
       "    </tr>\n",
       "    <tr>\n",
       "      <th>1</th>\n",
       "      <td>\\nSzemi, megtisztelnél a figyelmeddel, Ricsitő...</td>\n",
       "      <td>sailor</td>\n",
       "      <td>2006. 07. 27. 10:10</td>\n",
       "      <td>#199</td>\n",
       "      <td>0</td>\n",
       "      <td>0</td>\n",
       "      <td>#198</td>\n",
       "      <td>\\n                                           ...</td>\n",
       "      <td>4.0</td>\n",
       "      <td>4.0</td>\n",
       "      <td>4.0</td>\n",
       "    </tr>\n",
       "    <tr>\n",
       "      <th>2</th>\n",
       "      <td>\\n...jelenleg nem úgy tűnik...\\n</td>\n",
       "      <td>Vera76</td>\n",
       "      <td>2006. 07. 27. 10:05</td>\n",
       "      <td>#198</td>\n",
       "      <td>0</td>\n",
       "      <td>0</td>\n",
       "      <td>#197</td>\n",
       "      <td>\\n                                           ...</td>\n",
       "      <td>3.0</td>\n",
       "      <td>3.0</td>\n",
       "      <td>1.0</td>\n",
       "    </tr>\n",
       "    <tr>\n",
       "      <th>3</th>\n",
       "      <td>\\nremélem ez a nap már pozitiv lesz!\\n</td>\n",
       "      <td>koi</td>\n",
       "      <td>2006. 07. 27. 09:31</td>\n",
       "      <td>#197</td>\n",
       "      <td>0</td>\n",
       "      <td>0</td>\n",
       "      <td>None</td>\n",
       "      <td>None</td>\n",
       "      <td>1.0</td>\n",
       "      <td>1.0</td>\n",
       "      <td>1.0</td>\n",
       "    </tr>\n",
       "    <tr>\n",
       "      <th>4</th>\n",
       "      <td>\\nJó reggelt! Vajon ma merre indul az oti? A v...</td>\n",
       "      <td>Vera76</td>\n",
       "      <td>2006. 07. 27. 09:09</td>\n",
       "      <td>#196</td>\n",
       "      <td>0</td>\n",
       "      <td>0</td>\n",
       "      <td>None</td>\n",
       "      <td>None</td>\n",
       "      <td>3.0</td>\n",
       "      <td>3.0</td>\n",
       "      <td>1.0</td>\n",
       "    </tr>\n",
       "    <tr>\n",
       "      <th>...</th>\n",
       "      <td>...</td>\n",
       "      <td>...</td>\n",
       "      <td>...</td>\n",
       "      <td>...</td>\n",
       "      <td>...</td>\n",
       "      <td>...</td>\n",
       "      <td>...</td>\n",
       "      <td>...</td>\n",
       "      <td>...</td>\n",
       "      <td>...</td>\n",
       "      <td>...</td>\n",
       "    </tr>\n",
       "    <tr>\n",
       "      <th>95</th>\n",
       "      <td>\\nLényegében én is erre gondoltam gentle, csak...</td>\n",
       "      <td>egyetleneim</td>\n",
       "      <td>2006. 07. 25. 12:43</td>\n",
       "      <td>#105</td>\n",
       "      <td>0</td>\n",
       "      <td>0</td>\n",
       "      <td>#101</td>\n",
       "      <td>\\n                                           ...</td>\n",
       "      <td>5.0</td>\n",
       "      <td>3.0</td>\n",
       "      <td>4.0</td>\n",
       "    </tr>\n",
       "    <tr>\n",
       "      <th>96</th>\n",
       "      <td>\\nvaloszinü szeptember ????mert attol kezdödik...</td>\n",
       "      <td>koi</td>\n",
       "      <td>2006. 07. 25. 12:01</td>\n",
       "      <td>#104</td>\n",
       "      <td>0</td>\n",
       "      <td>0</td>\n",
       "      <td>#102</td>\n",
       "      <td>\\n                                           ...</td>\n",
       "      <td>1.0</td>\n",
       "      <td>1.0</td>\n",
       "      <td>1.0</td>\n",
       "    </tr>\n",
       "    <tr>\n",
       "      <th>97</th>\n",
       "      <td>\\nszerintetek az emberek hány százaléka fogja ...</td>\n",
       "      <td>koi</td>\n",
       "      <td>2006. 07. 25. 11:59</td>\n",
       "      <td>#103</td>\n",
       "      <td>0</td>\n",
       "      <td>0</td>\n",
       "      <td>#101</td>\n",
       "      <td>\\n                                           ...</td>\n",
       "      <td>1.0</td>\n",
       "      <td>1.0</td>\n",
       "      <td>1.0</td>\n",
       "    </tr>\n",
       "    <tr>\n",
       "      <th>98</th>\n",
       "      <td>\\nSztem azert, mert altalaban a nyar pangosabb...</td>\n",
       "      <td>akpo</td>\n",
       "      <td>2006. 07. 25. 11:57</td>\n",
       "      <td>#102</td>\n",
       "      <td>0</td>\n",
       "      <td>0</td>\n",
       "      <td>#98</td>\n",
       "      <td>\\n                                           ...</td>\n",
       "      <td>5.0</td>\n",
       "      <td>3.0</td>\n",
       "      <td>4.0</td>\n",
       "    </tr>\n",
       "    <tr>\n",
       "      <th>99</th>\n",
       "      <td>\\nNem. \\nAkkor adómentes, ha aug. 31-előtt még...</td>\n",
       "      <td>gentlemanus</td>\n",
       "      <td>2006. 07. 25. 11:56</td>\n",
       "      <td>#101</td>\n",
       "      <td>0</td>\n",
       "      <td>0</td>\n",
       "      <td>#100</td>\n",
       "      <td>\\n                                           ...</td>\n",
       "      <td>4.0</td>\n",
       "      <td>2.0</td>\n",
       "      <td>4.0</td>\n",
       "    </tr>\n",
       "  </tbody>\n",
       "</table>\n",
       "<p>100 rows × 11 columns</p>\n",
       "</div>"
      ],
      "text/plain": [
       "                                                 text     username  \\\n",
       "0           \\nVera! \\nNyugi, várjuk ki a nap végét.\\n  gentlemanus   \n",
       "1   \\nSzemi, megtisztelnél a figyelmeddel, Ricsitő...       sailor   \n",
       "2                    \\n...jelenleg nem úgy tűnik...\\n       Vera76   \n",
       "3              \\nremélem ez a nap már pozitiv lesz!\\n          koi   \n",
       "4   \\nJó reggelt! Vajon ma merre indul az oti? A v...       Vera76   \n",
       "..                                                ...          ...   \n",
       "95  \\nLényegében én is erre gondoltam gentle, csak...  egyetleneim   \n",
       "96  \\nvaloszinü szeptember ????mert attol kezdödik...          koi   \n",
       "97  \\nszerintetek az emberek hány százaléka fogja ...          koi   \n",
       "98  \\nSztem azert, mert altalaban a nyar pangosabb...         akpo   \n",
       "99  \\nNem. \\nAkkor adómentes, ha aug. 31-előtt még...  gentlemanus   \n",
       "\n",
       "                   date    id  like  unlike prev_id  \\\n",
       "0   2006. 07. 27. 10:13  #200     0       0    #198   \n",
       "1   2006. 07. 27. 10:10  #199     0       0    #198   \n",
       "2   2006. 07. 27. 10:05  #198     0       0    #197   \n",
       "3   2006. 07. 27. 09:31  #197     0       0    None   \n",
       "4   2006. 07. 27. 09:09  #196     0       0    None   \n",
       "..                  ...   ...   ...     ...     ...   \n",
       "95  2006. 07. 25. 12:43  #105     0       0    #101   \n",
       "96  2006. 07. 25. 12:01  #104     0       0    #102   \n",
       "97  2006. 07. 25. 11:59  #103     0       0    #101   \n",
       "98  2006. 07. 25. 11:57  #102     0       0     #98   \n",
       "99  2006. 07. 25. 11:56  #101     0       0    #100   \n",
       "\n",
       "                                            prev_name  expert  activity  \\\n",
       "0    \\n                                           ...     4.0       2.0   \n",
       "1    \\n                                           ...     4.0       4.0   \n",
       "2    \\n                                           ...     3.0       3.0   \n",
       "3                                                None     1.0       1.0   \n",
       "4                                                None     3.0       3.0   \n",
       "..                                                ...     ...       ...   \n",
       "95   \\n                                           ...     5.0       3.0   \n",
       "96   \\n                                           ...     1.0       1.0   \n",
       "97   \\n                                           ...     1.0       1.0   \n",
       "98   \\n                                           ...     5.0       3.0   \n",
       "99   \\n                                           ...     4.0       2.0   \n",
       "\n",
       "    popularity  \n",
       "0          4.0  \n",
       "1          4.0  \n",
       "2          1.0  \n",
       "3          1.0  \n",
       "4          1.0  \n",
       "..         ...  \n",
       "95         4.0  \n",
       "96         1.0  \n",
       "97         1.0  \n",
       "98         4.0  \n",
       "99         4.0  \n",
       "\n",
       "[100 rows x 11 columns]"
      ]
     },
     "metadata": {},
     "execution_count": 96
    }
   ],
   "metadata": {
    "scrolled": false
   }
  },
  {
   "cell_type": "code",
   "execution_count": 97,
   "source": [
    "fill_url = lambda x: f'https://forum.portfolio.hu/topics/otp-reszvenyesek-ide/5224?oldal={x}&limit=100'"
   ],
   "outputs": [],
   "metadata": {}
  },
  {
   "cell_type": "code",
   "execution_count": 132,
   "source": [
    "def get_all_msg(pages):\r\n",
    "    bad = []\r\n",
    "\r\n",
    "    if not os.path.exists('Data'):\r\n",
    "        os.makedirs('Data')\r\n",
    "\r\n",
    "    for page in tqdm(pages):\r\n",
    "\r\n",
    "        data = pd.DataFrame()\r\n",
    "\r\n",
    "        data = get_page_data(fill_url(page))\r\n",
    "        if not isinstance(data, pd.DataFrame):\r\n",
    "            bad.append(page)\r\n",
    "\r\n",
    "        data.to_csv(os.path.join('Data', f'data_{page}.csv'), sep = ';', encoding = 'utf-8', index = False)\r\n",
    "\r\n",
    "    pd.DataFrame(bad, columns = ['bad_page']).to_csv(os.path.join('Data', f'bad_page.csv'), sep = ';', encoding = 'utf-8', index = False)"
   ],
   "outputs": [],
   "metadata": {}
  },
  {
   "cell_type": "code",
   "execution_count": null,
   "source": [
    "#range(1, 11)\r\n",
    "get_all_msg(range(1, first_page))"
   ],
   "outputs": [],
   "metadata": {}
  },
  {
   "cell_type": "code",
   "execution_count": 146,
   "source": [
    "pd.read_csv(os.path.join('Data', 'bad_page.csv'), sep = ';', encoding = 'utf-8', header = 0)"
   ],
   "outputs": [
    {
     "output_type": "execute_result",
     "data": {
      "text/html": [
       "<div>\n",
       "<style scoped>\n",
       "    .dataframe tbody tr th:only-of-type {\n",
       "        vertical-align: middle;\n",
       "    }\n",
       "\n",
       "    .dataframe tbody tr th {\n",
       "        vertical-align: top;\n",
       "    }\n",
       "\n",
       "    .dataframe thead th {\n",
       "        text-align: right;\n",
       "    }\n",
       "</style>\n",
       "<table border=\"1\" class=\"dataframe\">\n",
       "  <thead>\n",
       "    <tr style=\"text-align: right;\">\n",
       "      <th></th>\n",
       "      <th>bad_page</th>\n",
       "    </tr>\n",
       "  </thead>\n",
       "  <tbody>\n",
       "  </tbody>\n",
       "</table>\n",
       "</div>"
      ],
      "text/plain": [
       "Empty DataFrame\n",
       "Columns: [bad_page]\n",
       "Index: []"
      ]
     },
     "metadata": {},
     "execution_count": 146
    }
   ],
   "metadata": {}
  },
  {
   "cell_type": "code",
   "execution_count": 164,
   "source": [
    "data = pd.DataFrame()\r\n",
    "\r\n",
    "for page in tqdm(range(1, first_page)):\r\n",
    "    data = pd.concat([data, pd.read_csv(os.path.join('Data', f'data_{page}.csv'), sep = ';', encoding = 'utf-8', header = 0)])\r\n",
    "\r\n",
    "data.to_csv(os.path.join('Data', 'data.csv'), sep = ';', encoding = 'utf-8', index = False)"
   ],
   "outputs": [
    {
     "output_type": "stream",
     "name": "stderr",
     "text": [
      "100%|██████████| 11283/11283 [1:30:28<00:00,  2.08it/s]\n"
     ]
    }
   ],
   "metadata": {
    "code_folding": [
     2
    ]
   }
  },
  {
   "cell_type": "markdown",
   "source": [
    "# **ASWAN help**"
   ],
   "metadata": {}
  },
  {
   "cell_type": "code",
   "execution_count": 1,
   "source": [
    "import aswan"
   ],
   "outputs": [
    {
     "output_type": "stream",
     "name": "stderr",
     "text": [
      "C:\\Users\\papse\\AppData\\Local\\Programs\\Python\\Python39\\lib\\site-packages\\dash_bootstrap_components\\_table.py:5: UserWarning: \n",
      "The dash_html_components package is deprecated. Please replace\n",
      "`import dash_html_components as html` with `from dash import html`\n",
      "  import dash_html_components as html\n",
      "C:\\Users\\papse\\AppData\\Local\\Programs\\Python\\Python39\\lib\\site-packages\\aswan\\monitor_dash\\app.py:7: UserWarning: \n",
      "The dash_core_components package is deprecated. Please replace\n",
      "`import dash_core_components as dcc` with `from dash import dcc`\n",
      "  import dash_core_components as dcc\n"
     ]
    }
   ],
   "metadata": {}
  },
  {
   "cell_type": "code",
   "execution_count": 105,
   "source": [
    "config = aswan.AswanConfig.default_from_dir('portfolio-forum')\r\n",
    "\r\n",
    "comment_table = config.get_prod_table('comment')\r\n",
    "\r\n",
    "project = aswan.Project(config)"
   ],
   "outputs": [],
   "metadata": {}
  },
  {
   "cell_type": "code",
   "execution_count": 2,
   "source": [
    "config = aswan.AswanConfig.default_from_dir(\"imdb-env\")\r\n",
    "\r\n",
    "\r\n",
    "celeb_table = config.get_prod_table(\"person\")\r\n",
    "movie_table = config.get_prod_table(\"movie\")\r\n",
    "\r\n",
    "project = aswan.Project(config) # this creates the env directories by default\r\n",
    "\r\n",
    "@project.register_handler\r\n",
    "class CelebHandler(aswan.UrlHandler):\r\n",
    "    url_root = \"https://www.imdb.com\"\r\n",
    "\r\n",
    "    def parse_soup(self, soup):\r\n",
    "        return {\r\n",
    "            \"name\": soup.find(\"h1\").find(\"span\").text.strip(),\r\n",
    "            \"dob\": soup.find(\"div\", id=\"name-born-info\").find(\"time\")[\"datetime\"],\r\n",
    "        }\r\n",
    "\r\n",
    "@project.register_handler\r\n",
    "class MovieHandler(aswan.UrlHandler):\r\n",
    "    url_root = \"https://www.imdb.com\"\r\n",
    "    def parse_soup(self, soup):\r\n",
    "\r\n",
    "        for cast in soup.find(\"table\", class_=\"cast_list\").find_all(\"td\", class_=\"primary_photo\")[:3]:\r\n",
    "            link = cast.find(\"a\")[\"href\"]\r\n",
    "            self.register_link_to_handler(link, CelebHandler)\r\n",
    "        \r\n",
    "        return {\r\n",
    "            \"title\": soup.find(\"title\").text.replace(\" - IMDb\", \"\").strip(),\r\n",
    "            \"summary\": soup.find(\"div\", class_=\"summary_text\").text.strip(),\r\n",
    "            \"year\": int(soup.find(\"span\", id=\"titleYear\").find(\"a\").text),\r\n",
    "        }\r\n",
    "\r\n",
    "\r\n",
    "# all this registering can be done simpler :)\r\n",
    "project.register_t2_table(celeb_table)\r\n",
    "project.register_t2_table(movie_table)\r\n",
    "\r\n",
    "@project.register_t2_integrator\r\n",
    "class MovieIntegrator(aswan.FlexibleDfParser):\r\n",
    "    handlers = [MovieHandler]\r\n",
    "\r\n",
    "    def url_parser(self, url):\r\n",
    "        return {\"id\": url.split(\"/\")[-1]}\r\n",
    "\r\n",
    "    def get_t2_table(self):\r\n",
    "        return movie_table\r\n",
    "\r\n",
    "@project.register_t2_integrator\r\n",
    "class CelebIntegrator(aswan.FlexibleDfParser):\r\n",
    "    handlers = [CelebHandler]\r\n",
    "    def get_t2_table(self):\r\n",
    "        return celeb_table\r\n",
    "\r\n",
    "def add_init_urls():\r\n",
    "    movie_urls = [\r\n",
    "        \"https://www.imdb.com/title/tt1045772\",\r\n",
    "        \"https://www.imdb.com/title/tt2543164\",\r\n",
    "    ]\r\n",
    "\r\n",
    "    person_urls = [\"https://www.imdb.com/name/nm0000190\"]\r\n",
    "    project.add_urls_to_handler(MovieHandler, movie_urls)\r\n",
    "    project.add_urls_to_handler(CelebHandler, person_urls)\r\n",
    "\r\n",
    "add_init_urls()"
   ],
   "outputs": [],
   "metadata": {}
  },
  {
   "cell_type": "code",
   "execution_count": 3,
   "source": [
    "project.run(with_monitor_process=True)"
   ],
   "outputs": [
    {
     "output_type": "stream",
     "name": "stdout",
     "text": [
      "2021-09-19 20:04.56 [info     ] running function reset_surls   env=prod function_batch=run_prep\n",
      "2021-09-19 20:04.56 [info     ] function reset_surls returned None env=prod function_batch=run_prep\n",
      "2021-09-19 20:04.56 [info     ] running function _expire_surls env=prod function_batch=run_prep\n",
      "2021-09-19 20:04.56 [info     ] function _expire_surls returned None env=prod function_batch=run_prep\n",
      "2021-09-19 20:04.56 [info     ] running function _register_starter_urls env=prod function_batch=run_prep\n",
      "2021-09-19 20:04.56 [info     ] function _register_starter_urls returned 0 env=prod function_batch=run_prep\n",
      "2021-09-19 20:04.56 [info     ] running function _create_scheduler env=prod function_batch=run_prep\n",
      "2021-09-19 20:05.16 [info     ] ray dashboard: http://127.0.0.1:8265\n",
      "2021-09-19 20:05.16 [info     ] launched ray with resources    CPU=4.0 memory=1360151348.0 node:146.110.61.245=1.0 object_store_memory=680075673.0\n",
      "2021-09-19 20:05.16 [info     ] function _create_scheduler returned None env=prod function_batch=run_prep\n",
      "2021-09-19 20:05.16 [info     ] running function start_monitor_process env=prod function_batch=run_prep\n"
     ]
    },
    {
     "output_type": "error",
     "ename": "AttributeError",
     "evalue": "Can't pickle local object 'create_engine.<locals>.connect'",
     "traceback": [
      "\u001b[1;31m---------------------------------------------------------------------------\u001b[0m",
      "\u001b[1;31mAttributeError\u001b[0m                            Traceback (most recent call last)",
      "\u001b[1;32m~\\AppData\\Local\\Temp/ipykernel_4496/1859334732.py\u001b[0m in \u001b[0;36m<module>\u001b[1;34m\u001b[0m\n\u001b[1;32m----> 1\u001b[1;33m \u001b[0mproject\u001b[0m\u001b[1;33m.\u001b[0m\u001b[0mrun\u001b[0m\u001b[1;33m(\u001b[0m\u001b[0mwith_monitor_process\u001b[0m\u001b[1;33m=\u001b[0m\u001b[1;32mTrue\u001b[0m\u001b[1;33m)\u001b[0m\u001b[1;33m\u001b[0m\u001b[1;33m\u001b[0m\u001b[0m\n\u001b[0m",
      "\u001b[1;32m~\\AppData\\Local\\Programs\\Python\\Python39\\lib\\site-packages\\aswan\\project\\core.py\u001b[0m in \u001b[0;36mrun\u001b[1;34m(self, with_monitor_process)\u001b[0m\n\u001b[0;32m    101\u001b[0m         \"\"\"\n\u001b[0;32m    102\u001b[0m \u001b[1;33m\u001b[0m\u001b[0m\n\u001b[1;32m--> 103\u001b[1;33m         \u001b[0mself\u001b[0m\u001b[1;33m.\u001b[0m\u001b[0m_prepare_run\u001b[0m\u001b[1;33m(\u001b[0m\u001b[0mwith_monitor_process\u001b[0m\u001b[1;33m)\u001b[0m\u001b[1;33m\u001b[0m\u001b[1;33m\u001b[0m\u001b[0m\n\u001b[0m\u001b[0;32m    104\u001b[0m         \u001b[0mran_once\u001b[0m \u001b[1;33m=\u001b[0m \u001b[1;32mFalse\u001b[0m\u001b[1;33m\u001b[0m\u001b[1;33m\u001b[0m\u001b[0m\n\u001b[0;32m    105\u001b[0m \u001b[1;33m\u001b[0m\u001b[0m\n",
      "\u001b[1;32m~\\AppData\\Local\\Programs\\Python\\Python39\\lib\\site-packages\\aswan\\project\\core.py\u001b[0m in \u001b[0;36m_prepare_run\u001b[1;34m(self, with_monitor_process)\u001b[0m\n\u001b[0;32m    260\u001b[0m         \u001b[1;32mif\u001b[0m \u001b[0mwith_monitor_process\u001b[0m\u001b[1;33m:\u001b[0m\u001b[1;33m\u001b[0m\u001b[1;33m\u001b[0m\u001b[0m\n\u001b[0;32m    261\u001b[0m             \u001b[0mprep_functions\u001b[0m\u001b[1;33m.\u001b[0m\u001b[0mappend\u001b[0m\u001b[1;33m(\u001b[0m\u001b[0mself\u001b[0m\u001b[1;33m.\u001b[0m\u001b[0mstart_monitor_process\u001b[0m\u001b[1;33m)\u001b[0m\u001b[1;33m\u001b[0m\u001b[1;33m\u001b[0m\u001b[0m\n\u001b[1;32m--> 262\u001b[1;33m         run_and_log_functions(\n\u001b[0m\u001b[0;32m    263\u001b[0m             \u001b[0mprep_functions\u001b[0m\u001b[1;33m,\u001b[0m \u001b[0mfunction_batch\u001b[0m\u001b[1;33m=\u001b[0m\u001b[1;34m\"run_prep\"\u001b[0m\u001b[1;33m,\u001b[0m \u001b[0menv\u001b[0m\u001b[1;33m=\u001b[0m\u001b[0mself\u001b[0m\u001b[1;33m.\u001b[0m\u001b[0m_current_env\u001b[0m\u001b[1;33m\u001b[0m\u001b[1;33m\u001b[0m\u001b[0m\n\u001b[0;32m    264\u001b[0m         )\n",
      "\u001b[1;32m~\\AppData\\Local\\Programs\\Python\\Python39\\lib\\site-packages\\aswan\\utils\\basic.py\u001b[0m in \u001b[0;36mrun_and_log_functions\u001b[1;34m(function_list, **kwargs)\u001b[0m\n\u001b[0;32m     15\u001b[0m         \u001b[0mfun_name\u001b[0m \u001b[1;33m=\u001b[0m \u001b[0mfun\u001b[0m\u001b[1;33m.\u001b[0m\u001b[0m__name__\u001b[0m\u001b[1;33m\u001b[0m\u001b[1;33m\u001b[0m\u001b[0m\n\u001b[0;32m     16\u001b[0m         \u001b[0mlogger\u001b[0m\u001b[1;33m.\u001b[0m\u001b[0minfo\u001b[0m\u001b[1;33m(\u001b[0m\u001b[1;34mf\"running function {fun_name}\"\u001b[0m\u001b[1;33m,\u001b[0m \u001b[1;33m**\u001b[0m\u001b[0mkwargs\u001b[0m\u001b[1;33m)\u001b[0m\u001b[1;33m\u001b[0m\u001b[1;33m\u001b[0m\u001b[0m\n\u001b[1;32m---> 17\u001b[1;33m         \u001b[0mres\u001b[0m \u001b[1;33m=\u001b[0m \u001b[0mfun\u001b[0m\u001b[1;33m(\u001b[0m\u001b[1;33m)\u001b[0m\u001b[1;33m\u001b[0m\u001b[1;33m\u001b[0m\u001b[0m\n\u001b[0m\u001b[0;32m     18\u001b[0m         \u001b[0mlogger\u001b[0m\u001b[1;33m.\u001b[0m\u001b[0minfo\u001b[0m\u001b[1;33m(\u001b[0m\u001b[1;34mf\"function {fun_name} returned {res}\"\u001b[0m\u001b[1;33m,\u001b[0m \u001b[1;33m**\u001b[0m\u001b[0mkwargs\u001b[0m\u001b[1;33m)\u001b[0m\u001b[1;33m\u001b[0m\u001b[1;33m\u001b[0m\u001b[0m\n\u001b[0;32m     19\u001b[0m \u001b[1;33m\u001b[0m\u001b[0m\n",
      "\u001b[1;32m~\\AppData\\Local\\Programs\\Python\\Python39\\lib\\site-packages\\aswan\\project\\core.py\u001b[0m in \u001b[0;36mstart_monitor_process\u001b[1;34m(self, port_no)\u001b[0m\n\u001b[0;32m    154\u001b[0m             \u001b[0mkwargs\u001b[0m\u001b[1;33m=\u001b[0m\u001b[1;33m{\u001b[0m\u001b[1;34m\"port_no\"\u001b[0m\u001b[1;33m:\u001b[0m \u001b[0mport_no\u001b[0m\u001b[1;33m}\u001b[0m\u001b[1;33m,\u001b[0m\u001b[1;33m\u001b[0m\u001b[1;33m\u001b[0m\u001b[0m\n\u001b[0;32m    155\u001b[0m         )\n\u001b[1;32m--> 156\u001b[1;33m         \u001b[0mself\u001b[0m\u001b[1;33m.\u001b[0m\u001b[0m_monitor_app_process\u001b[0m\u001b[1;33m.\u001b[0m\u001b[0mstart\u001b[0m\u001b[1;33m(\u001b[0m\u001b[1;33m)\u001b[0m\u001b[1;33m\u001b[0m\u001b[1;33m\u001b[0m\u001b[0m\n\u001b[0m\u001b[0;32m    157\u001b[0m         \u001b[0mlogger\u001b[0m\u001b[1;33m.\u001b[0m\u001b[0minfo\u001b[0m\u001b[1;33m(\u001b[0m\u001b[1;34mf\" monitor app at: http://localhost:{port_no}\"\u001b[0m\u001b[1;33m)\u001b[0m\u001b[1;33m\u001b[0m\u001b[1;33m\u001b[0m\u001b[0m\n\u001b[0;32m    158\u001b[0m \u001b[1;33m\u001b[0m\u001b[0m\n",
      "\u001b[1;32m~\\AppData\\Local\\Programs\\Python\\Python39\\lib\\multiprocessing\\process.py\u001b[0m in \u001b[0;36mstart\u001b[1;34m(self)\u001b[0m\n\u001b[0;32m    119\u001b[0m                \u001b[1;34m'daemonic processes are not allowed to have children'\u001b[0m\u001b[1;33m\u001b[0m\u001b[1;33m\u001b[0m\u001b[0m\n\u001b[0;32m    120\u001b[0m         \u001b[0m_cleanup\u001b[0m\u001b[1;33m(\u001b[0m\u001b[1;33m)\u001b[0m\u001b[1;33m\u001b[0m\u001b[1;33m\u001b[0m\u001b[0m\n\u001b[1;32m--> 121\u001b[1;33m         \u001b[0mself\u001b[0m\u001b[1;33m.\u001b[0m\u001b[0m_popen\u001b[0m \u001b[1;33m=\u001b[0m \u001b[0mself\u001b[0m\u001b[1;33m.\u001b[0m\u001b[0m_Popen\u001b[0m\u001b[1;33m(\u001b[0m\u001b[0mself\u001b[0m\u001b[1;33m)\u001b[0m\u001b[1;33m\u001b[0m\u001b[1;33m\u001b[0m\u001b[0m\n\u001b[0m\u001b[0;32m    122\u001b[0m         \u001b[0mself\u001b[0m\u001b[1;33m.\u001b[0m\u001b[0m_sentinel\u001b[0m \u001b[1;33m=\u001b[0m \u001b[0mself\u001b[0m\u001b[1;33m.\u001b[0m\u001b[0m_popen\u001b[0m\u001b[1;33m.\u001b[0m\u001b[0msentinel\u001b[0m\u001b[1;33m\u001b[0m\u001b[1;33m\u001b[0m\u001b[0m\n\u001b[0;32m    123\u001b[0m         \u001b[1;31m# Avoid a refcycle if the target function holds an indirect\u001b[0m\u001b[1;33m\u001b[0m\u001b[1;33m\u001b[0m\u001b[1;33m\u001b[0m\u001b[0m\n",
      "\u001b[1;32m~\\AppData\\Local\\Programs\\Python\\Python39\\lib\\multiprocessing\\context.py\u001b[0m in \u001b[0;36m_Popen\u001b[1;34m(process_obj)\u001b[0m\n\u001b[0;32m    222\u001b[0m     \u001b[1;33m@\u001b[0m\u001b[0mstaticmethod\u001b[0m\u001b[1;33m\u001b[0m\u001b[1;33m\u001b[0m\u001b[0m\n\u001b[0;32m    223\u001b[0m     \u001b[1;32mdef\u001b[0m \u001b[0m_Popen\u001b[0m\u001b[1;33m(\u001b[0m\u001b[0mprocess_obj\u001b[0m\u001b[1;33m)\u001b[0m\u001b[1;33m:\u001b[0m\u001b[1;33m\u001b[0m\u001b[1;33m\u001b[0m\u001b[0m\n\u001b[1;32m--> 224\u001b[1;33m         \u001b[1;32mreturn\u001b[0m \u001b[0m_default_context\u001b[0m\u001b[1;33m.\u001b[0m\u001b[0mget_context\u001b[0m\u001b[1;33m(\u001b[0m\u001b[1;33m)\u001b[0m\u001b[1;33m.\u001b[0m\u001b[0mProcess\u001b[0m\u001b[1;33m.\u001b[0m\u001b[0m_Popen\u001b[0m\u001b[1;33m(\u001b[0m\u001b[0mprocess_obj\u001b[0m\u001b[1;33m)\u001b[0m\u001b[1;33m\u001b[0m\u001b[1;33m\u001b[0m\u001b[0m\n\u001b[0m\u001b[0;32m    225\u001b[0m \u001b[1;33m\u001b[0m\u001b[0m\n\u001b[0;32m    226\u001b[0m \u001b[1;32mclass\u001b[0m \u001b[0mDefaultContext\u001b[0m\u001b[1;33m(\u001b[0m\u001b[0mBaseContext\u001b[0m\u001b[1;33m)\u001b[0m\u001b[1;33m:\u001b[0m\u001b[1;33m\u001b[0m\u001b[1;33m\u001b[0m\u001b[0m\n",
      "\u001b[1;32m~\\AppData\\Local\\Programs\\Python\\Python39\\lib\\multiprocessing\\context.py\u001b[0m in \u001b[0;36m_Popen\u001b[1;34m(process_obj)\u001b[0m\n\u001b[0;32m    325\u001b[0m         \u001b[1;32mdef\u001b[0m \u001b[0m_Popen\u001b[0m\u001b[1;33m(\u001b[0m\u001b[0mprocess_obj\u001b[0m\u001b[1;33m)\u001b[0m\u001b[1;33m:\u001b[0m\u001b[1;33m\u001b[0m\u001b[1;33m\u001b[0m\u001b[0m\n\u001b[0;32m    326\u001b[0m             \u001b[1;32mfrom\u001b[0m \u001b[1;33m.\u001b[0m\u001b[0mpopen_spawn_win32\u001b[0m \u001b[1;32mimport\u001b[0m \u001b[0mPopen\u001b[0m\u001b[1;33m\u001b[0m\u001b[1;33m\u001b[0m\u001b[0m\n\u001b[1;32m--> 327\u001b[1;33m             \u001b[1;32mreturn\u001b[0m \u001b[0mPopen\u001b[0m\u001b[1;33m(\u001b[0m\u001b[0mprocess_obj\u001b[0m\u001b[1;33m)\u001b[0m\u001b[1;33m\u001b[0m\u001b[1;33m\u001b[0m\u001b[0m\n\u001b[0m\u001b[0;32m    328\u001b[0m \u001b[1;33m\u001b[0m\u001b[0m\n\u001b[0;32m    329\u001b[0m     \u001b[1;32mclass\u001b[0m \u001b[0mSpawnContext\u001b[0m\u001b[1;33m(\u001b[0m\u001b[0mBaseContext\u001b[0m\u001b[1;33m)\u001b[0m\u001b[1;33m:\u001b[0m\u001b[1;33m\u001b[0m\u001b[1;33m\u001b[0m\u001b[0m\n",
      "\u001b[1;32m~\\AppData\\Local\\Programs\\Python\\Python39\\lib\\multiprocessing\\popen_spawn_win32.py\u001b[0m in \u001b[0;36m__init__\u001b[1;34m(self, process_obj)\u001b[0m\n\u001b[0;32m     91\u001b[0m             \u001b[1;32mtry\u001b[0m\u001b[1;33m:\u001b[0m\u001b[1;33m\u001b[0m\u001b[1;33m\u001b[0m\u001b[0m\n\u001b[0;32m     92\u001b[0m                 \u001b[0mreduction\u001b[0m\u001b[1;33m.\u001b[0m\u001b[0mdump\u001b[0m\u001b[1;33m(\u001b[0m\u001b[0mprep_data\u001b[0m\u001b[1;33m,\u001b[0m \u001b[0mto_child\u001b[0m\u001b[1;33m)\u001b[0m\u001b[1;33m\u001b[0m\u001b[1;33m\u001b[0m\u001b[0m\n\u001b[1;32m---> 93\u001b[1;33m                 \u001b[0mreduction\u001b[0m\u001b[1;33m.\u001b[0m\u001b[0mdump\u001b[0m\u001b[1;33m(\u001b[0m\u001b[0mprocess_obj\u001b[0m\u001b[1;33m,\u001b[0m \u001b[0mto_child\u001b[0m\u001b[1;33m)\u001b[0m\u001b[1;33m\u001b[0m\u001b[1;33m\u001b[0m\u001b[0m\n\u001b[0m\u001b[0;32m     94\u001b[0m             \u001b[1;32mfinally\u001b[0m\u001b[1;33m:\u001b[0m\u001b[1;33m\u001b[0m\u001b[1;33m\u001b[0m\u001b[0m\n\u001b[0;32m     95\u001b[0m                 \u001b[0mset_spawning_popen\u001b[0m\u001b[1;33m(\u001b[0m\u001b[1;32mNone\u001b[0m\u001b[1;33m)\u001b[0m\u001b[1;33m\u001b[0m\u001b[1;33m\u001b[0m\u001b[0m\n",
      "\u001b[1;32m~\\AppData\\Local\\Programs\\Python\\Python39\\lib\\multiprocessing\\reduction.py\u001b[0m in \u001b[0;36mdump\u001b[1;34m(obj, file, protocol)\u001b[0m\n\u001b[0;32m     58\u001b[0m \u001b[1;32mdef\u001b[0m \u001b[0mdump\u001b[0m\u001b[1;33m(\u001b[0m\u001b[0mobj\u001b[0m\u001b[1;33m,\u001b[0m \u001b[0mfile\u001b[0m\u001b[1;33m,\u001b[0m \u001b[0mprotocol\u001b[0m\u001b[1;33m=\u001b[0m\u001b[1;32mNone\u001b[0m\u001b[1;33m)\u001b[0m\u001b[1;33m:\u001b[0m\u001b[1;33m\u001b[0m\u001b[1;33m\u001b[0m\u001b[0m\n\u001b[0;32m     59\u001b[0m     \u001b[1;34m'''Replacement for pickle.dump() using ForkingPickler.'''\u001b[0m\u001b[1;33m\u001b[0m\u001b[1;33m\u001b[0m\u001b[0m\n\u001b[1;32m---> 60\u001b[1;33m     \u001b[0mForkingPickler\u001b[0m\u001b[1;33m(\u001b[0m\u001b[0mfile\u001b[0m\u001b[1;33m,\u001b[0m \u001b[0mprotocol\u001b[0m\u001b[1;33m)\u001b[0m\u001b[1;33m.\u001b[0m\u001b[0mdump\u001b[0m\u001b[1;33m(\u001b[0m\u001b[0mobj\u001b[0m\u001b[1;33m)\u001b[0m\u001b[1;33m\u001b[0m\u001b[1;33m\u001b[0m\u001b[0m\n\u001b[0m\u001b[0;32m     61\u001b[0m \u001b[1;33m\u001b[0m\u001b[0m\n\u001b[0;32m     62\u001b[0m \u001b[1;31m#\u001b[0m\u001b[1;33m\u001b[0m\u001b[1;33m\u001b[0m\u001b[1;33m\u001b[0m\u001b[0m\n",
      "\u001b[1;31mAttributeError\u001b[0m: Can't pickle local object 'create_engine.<locals>.connect'"
     ]
    }
   ],
   "metadata": {}
  }
 ],
 "metadata": {
  "kernelspec": {
   "name": "python3",
   "display_name": "Python 3.9.6 64-bit"
  },
  "language_info": {
   "codemirror_mode": {
    "name": "ipython",
    "version": 3
   },
   "file_extension": ".py",
   "mimetype": "text/x-python",
   "name": "python",
   "nbconvert_exporter": "python",
   "pygments_lexer": "ipython3",
   "version": "3.9.6"
  },
  "interpreter": {
   "hash": "d7d6836bfa7789e041f3d31c9691930130884580349be23a30d1af69dcaa2921"
  }
 },
 "nbformat": 4,
 "nbformat_minor": 4
}